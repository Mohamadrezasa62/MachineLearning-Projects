{
  "cells": [
    {
      "cell_type": "markdown",
      "metadata": {
        "id": "TP2CcouORqaP"
      },
      "source": [
        "<h1 style='text-align:center;color:red;'>In the name of God</h1>"
      ]
    },
    {
      "cell_type": "markdown",
      "metadata": {
        "id": "PIuRB2YGDDEi"
      },
      "source": [
        "# 🐶 End-to-end Multil-class Dog Breed Classification\n",
        "\n",
        "This notebook builds an end-to-end multi-class image classifier using TensorFlow 2.x and TensorFlow Hub.\n",
        "\n",
        "## 1. Problem\n",
        "\n",
        "Identifying the breed of a dog given an image of a dog.\n",
        "\n",
        "When I'm sitting at the cafe and I take a photo of a dog, I want to know what breed of dog it is.\n",
        "\n",
        "## 2. Data\n",
        "\n",
        "The data we're using is from Kaggle's dog breed identification competition.\n",
        "\n",
        "https://www.kaggle.com/c/dog-breed-identification/data\n",
        "\n",
        "## 3. Evaluation\n",
        "\n",
        "The evaluation is a file with prediction probabilities for each dog breed of each test image.\n",
        "\n",
        "https://www.kaggle.com/c/dog-breed-identification/overview/evaluation\n",
        "\n",
        "## 4. Features\n",
        "\n",
        "Some information about the data:\n",
        "* We're dealing with images (unstructured data) so it's probably best we use deep learning/transfer learning.\n",
        "* There are 120 breeds of dogs (this means there are 120 different classes).\n",
        "* There are around 10,000+ images in the training set (these images have labels).\n",
        "* There are around 10,000+ images in the test set (these images have no labels, because we'll want to predict them).\n"
      ]
    },
    {
      "cell_type": "code",
      "execution_count": null,
      "metadata": {
        "id": "8SS5W3rmRRoy"
      },
      "outputs": [],
      "source": [
        "# the correct way to upload file in colab is to right click on the folder and click upload option\n",
        "# of course before that we have to mount colab to google drive"
      ]
    },
    {
      "cell_type": "code",
      "execution_count": null,
      "metadata": {
        "id": "DWjFyFMAJHL-"
      },
      "outputs": [],
      "source": [
        "# import libraries\n",
        "import numpy as np\n",
        "import pandas as pd\n",
        "import matplotlib.pyplot as plt\n",
        "import sklearn"
      ]
    },
    {
      "cell_type": "code",
      "execution_count": null,
      "metadata": {
        "id": "91BdDGRGRn7k"
      },
      "outputs": [],
      "source": [
        "# 223"
      ]
    },
    {
      "cell_type": "code",
      "execution_count": null,
      "metadata": {
        "id": "RK184cEEUAk-"
      },
      "outputs": [],
      "source": [
        "# from google.colab import drive\n",
        "# drive.mount('/content/drive')"
      ]
    },
    {
      "cell_type": "code",
      "execution_count": null,
      "metadata": {
        "id": "L2obPTdeo_KF"
      },
      "outputs": [],
      "source": [
        "# lets extract our data\n",
        "# !unzip \"drive/My Drive/data-project3/archive_3.zip\" -d \"drive/My Drive/data-project3/\""
      ]
    },
    {
      "cell_type": "code",
      "execution_count": null,
      "metadata": {
        "id": "Cl0uM7fuBckd"
      },
      "outputs": [],
      "source": [
        "# Run this cell if TensorFlow 2.x isn't the default in Colab\n",
        "try:\n",
        "  # %tensorflow_version only exists in Colab\n",
        "  %tensorflow_version 2.x\n",
        "except Exception:\n",
        "  pass"
      ]
    },
    {
      "cell_type": "code",
      "execution_count": null,
      "metadata": {
        "id": "ZE-QNCVrqIXQ"
      },
      "outputs": [],
      "source": [
        "# load data:\n",
        "df = pd.read_csv('drive/MyDrive/data-project3/sample_submission.csv')\n",
        "df"
      ]
    },
    {
      "cell_type": "code",
      "execution_count": null,
      "metadata": {
        "id": "8XvpS43EKNDe"
      },
      "outputs": [],
      "source": [
        "df.head(10).T"
      ]
    },
    {
      "cell_type": "code",
      "execution_count": null,
      "metadata": {
        "id": "zANJ9i4wKZUh"
      },
      "outputs": [],
      "source": [
        "# import Tensorflow and check it's version\n",
        "import tensorflow as tf\n",
        "print(tf.__version__)"
      ]
    },
    {
      "cell_type": "code",
      "execution_count": null,
      "metadata": {
        "id": "LDIewLVaLjCt"
      },
      "outputs": [],
      "source": [
        "# 225"
      ]
    },
    {
      "cell_type": "code",
      "execution_count": null,
      "metadata": {
        "id": "cjBcVMsUMznA"
      },
      "outputs": [],
      "source": [
        "# import tensorflow hub and check its version\n",
        "import tensorflow_hub as th\n",
        "print(f'tensorflow hub version: {th.__version__}')\n",
        "\n",
        "# check having gpu by command:\n",
        "print('Access to GPU is ok!' if tf.config.list_physical_devices(\"GPU\") else 'Access is\\'nt available')\n",
        "\n",
        "# access colab gpu by change runtime type from runtime menu\n"
      ]
    },
    {
      "cell_type": "code",
      "execution_count": null,
      "metadata": {
        "id": "SlGP6kzFOlAE"
      },
      "outputs": [],
      "source": [
        "# 226"
      ]
    },
    {
      "cell_type": "code",
      "execution_count": null,
      "metadata": {
        "id": "GJjH2t2dDJL3"
      },
      "outputs": [],
      "source": [
        "#load labels\n",
        "labels = pd.read_csv('drive/MyDrive/data-project3/labels.csv')\n",
        "labels"
      ]
    },
    {
      "cell_type": "markdown",
      "metadata": {
        "id": "1e_n4KsrG75A"
      },
      "source": [
        "# Getting our data ready:"
      ]
    },
    {
      "cell_type": "code",
      "execution_count": null,
      "metadata": {
        "id": "dFBnqskZG6-y"
      },
      "outputs": [],
      "source": []
    },
    {
      "cell_type": "code",
      "execution_count": null,
      "metadata": {
        "id": "eLm_gxd9DJmb"
      },
      "outputs": [],
      "source": [
        "# describe labels and get head\n",
        "print(labels.head(), labels.describe(), sep='\\n')"
      ]
    },
    {
      "cell_type": "code",
      "execution_count": null,
      "metadata": {
        "id": "gMh6l6LqE866"
      },
      "outputs": [],
      "source": [
        "# 227: to 9 min"
      ]
    },
    {
      "cell_type": "code",
      "execution_count": null,
      "metadata": {
        "id": "WI3tGc-ZFNpw"
      },
      "outputs": [],
      "source": [
        "# how many images are there of each breed\n",
        "labels['breed'].value_counts()"
      ]
    },
    {
      "cell_type": "code",
      "execution_count": null,
      "metadata": {
        "id": "hqz3wNoybEgc"
      },
      "outputs": [],
      "source": [
        "# let's visualize it\n",
        "labels['breed'].value_counts().plot.bar(figsize=(20, 10));"
      ]
    },
    {
      "cell_type": "code",
      "execution_count": null,
      "metadata": {
        "id": "uCpjahR4E9xq"
      },
      "outputs": [],
      "source": [
        "# we searched about minimom number of photos of each breed and found out that we need at least 10 photos per breed\n",
        "labels['breed'].value_counts().median()"
      ]
    },
    {
      "cell_type": "code",
      "execution_count": null,
      "metadata": {
        "id": "1fvE_21bs6MG"
      },
      "outputs": [],
      "source": []
    },
    {
      "cell_type": "code",
      "execution_count": null,
      "metadata": {
        "id": "AvDexL2ts6u5"
      },
      "outputs": [],
      "source": []
    },
    {
      "cell_type": "code",
      "execution_count": null,
      "metadata": {
        "id": "rudv0jDcE9uX"
      },
      "outputs": [],
      "source": [
        "labels['breed'].value_counts().mean()"
      ]
    },
    {
      "cell_type": "code",
      "execution_count": null,
      "metadata": {
        "id": "Jut1ow8vte-r"
      },
      "outputs": [],
      "source": [
        "labels.head(5)"
      ]
    },
    {
      "cell_type": "code",
      "execution_count": null,
      "metadata": {
        "id": "BHVuORf_E9sV"
      },
      "outputs": [],
      "source": [
        "# Lets view an image\n",
        "from IPython.display import Image\n",
        "Image('drive/MyDrive/data-project3/train/000bec180eb18c7604dcecc8fe0dba07.jpg')"
      ]
    },
    {
      "cell_type": "markdown",
      "metadata": {
        "id": "QgXuM2C2ttpV"
      },
      "source": [
        "### Getting images and their labels\n",
        "\n",
        "Let's get a list of all of our image file pathnames."
      ]
    },
    {
      "cell_type": "code",
      "execution_count": null,
      "metadata": {
        "id": "mMc_Qm5rE9p7"
      },
      "outputs": [],
      "source": [
        "labels.head()"
      ]
    },
    {
      "cell_type": "code",
      "execution_count": null,
      "metadata": {
        "id": "JmqR4Y5KE9nq"
      },
      "outputs": [],
      "source": [
        "# Create pathnames from image ID's\n",
        "filenames = [\"drive/MyDrive/data-project3/train/\" + fname + \".jpg\" for fname in labels[\"id\"]]\n",
        "\n",
        "# Check the first 10\n",
        "filenames[:10]"
      ]
    },
    {
      "cell_type": "code",
      "execution_count": null,
      "metadata": {
        "id": "wsBKO2lxt8Ud"
      },
      "outputs": [],
      "source": [
        "Image(filenames[10])"
      ]
    },
    {
      "cell_type": "code",
      "execution_count": null,
      "metadata": {
        "id": "k52VDnQ9uZmC"
      },
      "outputs": [],
      "source": [
        "labels['breed'][10]"
      ]
    },
    {
      "cell_type": "code",
      "execution_count": null,
      "metadata": {
        "id": "XxAbl69IukXX"
      },
      "outputs": [],
      "source": [
        "# Check whether number of filenames matches number of actual image files\n",
        "import os\n",
        "if len(os.listdir('drive/MyDrive/data-project3/train/')) == len(filenames):\n",
        "  print(\"Filenames match actual amount of files!!! Proceed.\")\n",
        "else:\n",
        "  print(\"Filenames do no match actual amount of files, check the target directory.\")"
      ]
    },
    {
      "cell_type": "code",
      "execution_count": null,
      "metadata": {
        "id": "burYvQO4ukTj"
      },
      "outputs": [],
      "source": [
        "# One more check\n",
        "print(f'This dog is a/an {labels[\"breed\"][20]} dog')\n",
        "Image(filenames[20])"
      ]
    },
    {
      "cell_type": "code",
      "execution_count": null,
      "metadata": {
        "id": "LXK4sF_fukMC"
      },
      "outputs": [],
      "source": []
    },
    {
      "cell_type": "code",
      "execution_count": null,
      "metadata": {
        "id": "poFknm3VDuRy"
      },
      "outputs": [],
      "source": [
        "# 228 : to 2 min"
      ]
    },
    {
      "cell_type": "code",
      "execution_count": null,
      "metadata": {
        "id": "4vhA_dQRDvgS"
      },
      "outputs": [],
      "source": [
        "labels_csv = pd.read_csv('drive/MyDrive/data-project3/labels.csv')\n",
        "labels = labels_csv['breed'].to_numpy()\n",
        "labels"
      ]
    },
    {
      "cell_type": "code",
      "execution_count": null,
      "metadata": {
        "id": "TkSWA0GCDvc4"
      },
      "outputs": [],
      "source": [
        "unique_breeds = np.unique(labels)\n",
        "print(f'We have {len(unique_breeds)} unique breeds\\n\\n list of them: {unique_breeds}')"
      ]
    },
    {
      "cell_type": "code",
      "execution_count": null,
      "metadata": {
        "id": "CiTfnWYyDva9"
      },
      "outputs": [],
      "source": [
        "# Turn a single label into an array of booleans\n",
        "print(labels[0])\n",
        "labels[0] == unique_breeds"
      ]
    },
    {
      "cell_type": "code",
      "execution_count": null,
      "metadata": {
        "colab": {
          "background_save": true
        },
        "id": "kP01Uj6TDvQ-",
        "outputId": "dca1ab5a-bfcc-4263-d68b-b1bbd83a1465"
      },
      "outputs": [
        {
          "data": {
            "text/plain": [
              "10222"
            ]
          },
          "execution_count": 32,
          "metadata": {},
          "output_type": "execute_result"
        }
      ],
      "source": [
        "len(labels)"
      ]
    },
    {
      "cell_type": "code",
      "execution_count": null,
      "metadata": {
        "colab": {
          "background_save": true
        },
        "id": "_N5hk5-bH8Qz",
        "outputId": "649c30d2-0866-4e19-fc25-116e719d817f"
      },
      "outputs": [
        {
          "data": {
            "text/plain": [
              "[array([False, False, False, False, False, False, False, False, False,\n",
              "        False, False, False, False, False, False, False, False, False,\n",
              "        False,  True, False, False, False, False, False, False, False,\n",
              "        False, False, False, False, False, False, False, False, False,\n",
              "        False, False, False, False, False, False, False, False, False,\n",
              "        False, False, False, False, False, False, False, False, False,\n",
              "        False, False, False, False, False, False, False, False, False,\n",
              "        False, False, False, False, False, False, False, False, False,\n",
              "        False, False, False, False, False, False, False, False, False,\n",
              "        False, False, False, False, False, False, False, False, False,\n",
              "        False, False, False, False, False, False, False, False, False,\n",
              "        False, False, False, False, False, False, False, False, False,\n",
              "        False, False, False, False, False, False, False, False, False,\n",
              "        False, False, False]),\n",
              " array([False, False, False, False, False, False, False, False, False,\n",
              "        False, False, False, False, False, False, False, False, False,\n",
              "        False, False, False, False, False, False, False, False, False,\n",
              "        False, False, False, False, False, False, False, False, False,\n",
              "        False,  True, False, False, False, False, False, False, False,\n",
              "        False, False, False, False, False, False, False, False, False,\n",
              "        False, False, False, False, False, False, False, False, False,\n",
              "        False, False, False, False, False, False, False, False, False,\n",
              "        False, False, False, False, False, False, False, False, False,\n",
              "        False, False, False, False, False, False, False, False, False,\n",
              "        False, False, False, False, False, False, False, False, False,\n",
              "        False, False, False, False, False, False, False, False, False,\n",
              "        False, False, False, False, False, False, False, False, False,\n",
              "        False, False, False])]"
            ]
          },
          "execution_count": 33,
          "metadata": {},
          "output_type": "execute_result"
        }
      ],
      "source": [
        "# Turn every label into a boolean array\n",
        "boolean_labels = [label == unique_breeds for label in labels]\n",
        "boolean_labels[:2]"
      ]
    },
    {
      "cell_type": "code",
      "execution_count": null,
      "metadata": {
        "colab": {
          "background_save": true
        },
        "id": "djMVKwRNIobQ",
        "outputId": "90f38d84-ff8f-4fa5-ab97-1d13536b8ae0"
      },
      "outputs": [
        {
          "name": "stdout",
          "output_type": "stream",
          "text": [
            "pekinese\n",
            "85\n",
            "(array([85]),)\n",
            "[0 0 0 0 0 0 0 0 0 0 0 0 0 0 0 0 0 0 0 0 0 0 0 0 0 0 0 0 0 0 0 0 0 0 0 0 0\n",
            " 0 0 0 0 0 0 0 0 0 0 0 0 0 0 0 0 0 0 0 0 0 0 0 0 0 0 0 0 0 0 0 0 0 0 0 0 0\n",
            " 0 0 0 0 0 0 0 0 0 0 0 1 0 0 0 0 0 0 0 0 0 0 0 0 0 0 0 0 0 0 0 0 0 0 0 0 0\n",
            " 0 0 0 0 0 0 0 0 0]\n",
            "boston_bull\n",
            "19\n",
            "(array([19]),)\n",
            "[0 0 0 0 0 0 0 0 0 0 0 0 0 0 0 0 0 0 0 1 0 0 0 0 0 0 0 0 0 0 0 0 0 0 0 0 0\n",
            " 0 0 0 0 0 0 0 0 0 0 0 0 0 0 0 0 0 0 0 0 0 0 0 0 0 0 0 0 0 0 0 0 0 0 0 0 0\n",
            " 0 0 0 0 0 0 0 0 0 0 0 0 0 0 0 0 0 0 0 0 0 0 0 0 0 0 0 0 0 0 0 0 0 0 0 0 0\n",
            " 0 0 0 0 0 0 0 0 0]\n"
          ]
        }
      ],
      "source": [
        "# Example: Turning boolean array into integers\n",
        "print(labels[2]) # original label\n",
        "print(boolean_labels[2].argmax()) # index where label occurs\n",
        "print(np.where(labels[2] == unique_breeds))  # index where label occurs in boolean array\n",
        "print(boolean_labels[2].astype(int)) # there will be a 1 where the sample label occurs\n",
        "\n",
        "\n",
        "print(labels[0])\n",
        "print(boolean_labels[0].argmax())\n",
        "print(np.where(labels[0] == unique_breeds))\n",
        "print(boolean_labels[0].astype(int))"
      ]
    },
    {
      "cell_type": "code",
      "execution_count": null,
      "metadata": {
        "colab": {
          "background_save": true
        },
        "id": "Mg4MHiiXKarV",
        "outputId": "0045fb6d-a38f-492f-eadf-c866f5eef19b"
      },
      "outputs": [
        {
          "data": {
            "text/plain": [
              "['drive/MyDrive/data-project3/train/000bec180eb18c7604dcecc8fe0dba07.jpg',\n",
              " 'drive/MyDrive/data-project3/train/001513dfcb2ffafc82cccf4d8bbaba97.jpg',\n",
              " 'drive/MyDrive/data-project3/train/001cdf01b096e06d78e9e5112d419397.jpg',\n",
              " 'drive/MyDrive/data-project3/train/00214f311d5d2247d5dfe4fe24b2303d.jpg',\n",
              " 'drive/MyDrive/data-project3/train/0021f9ceb3235effd7fcde7f7538ed62.jpg',\n",
              " 'drive/MyDrive/data-project3/train/002211c81b498ef88e1b40b9abf84e1d.jpg',\n",
              " 'drive/MyDrive/data-project3/train/00290d3e1fdd27226ba27a8ce248ce85.jpg',\n",
              " 'drive/MyDrive/data-project3/train/002a283a315af96eaea0e28e7163b21b.jpg',\n",
              " 'drive/MyDrive/data-project3/train/003df8b8a8b05244b1d920bb6cf451f9.jpg',\n",
              " 'drive/MyDrive/data-project3/train/0042188c895a2f14ef64a918ed9c7b64.jpg']"
            ]
          },
          "execution_count": 35,
          "metadata": {},
          "output_type": "execute_result"
        }
      ],
      "source": [
        "filenames[:10]"
      ]
    },
    {
      "cell_type": "markdown",
      "metadata": {
        "id": "nVXeriWWKgNE"
      },
      "source": [
        "### Creating our own validation set\n",
        "Since the dataset from Kaggle doesn't come with a validation set, we're going to create our own."
      ]
    },
    {
      "cell_type": "code",
      "execution_count": null,
      "metadata": {
        "colab": {
          "background_save": true
        },
        "id": "4SbfZsFkDvB9"
      },
      "outputs": [],
      "source": [
        "# Setup X & y variables\n",
        "X = filenames\n",
        "y = boolean_labels"
      ]
    },
    {
      "cell_type": "code",
      "execution_count": null,
      "metadata": {
        "colab": {
          "background_save": true
        },
        "id": "maC4Z3ddKxOX",
        "outputId": "bd8492b8-30d5-4655-b2d8-e28d0c16ff36"
      },
      "outputs": [
        {
          "data": {
            "text/plain": [
              "10222"
            ]
          },
          "execution_count": 37,
          "metadata": {},
          "output_type": "execute_result"
        }
      ],
      "source": [
        "len(filenames)"
      ]
    },
    {
      "cell_type": "markdown",
      "metadata": {
        "id": "7a5nNTFWK1EW"
      },
      "source": [
        "We're going to start off experimenting with ~1000 images and increase as needed."
      ]
    },
    {
      "cell_type": "code",
      "execution_count": null,
      "metadata": {
        "colab": {
          "background_save": true
        },
        "id": "eUUIoefRKxK9"
      },
      "outputs": [],
      "source": [
        "# Set number of images to use for experimenting\n",
        "ImageNumber = 1000 #@param {type:\"slider\", min:1000, max:10000, step:1000}"
      ]
    },
    {
      "cell_type": "code",
      "execution_count": null,
      "metadata": {
        "colab": {
          "background_save": true
        },
        "id": "_e1mdHIBKxI8",
        "outputId": "40bf8c58-6003-4057-c373-17b14978027e"
      },
      "outputs": [
        {
          "data": {
            "text/plain": [
              "(800, 800, 200, 200)"
            ]
          },
          "execution_count": 39,
          "metadata": {},
          "output_type": "execute_result"
        }
      ],
      "source": [
        "# Let's split our data into train and validation sets\n",
        "from sklearn.model_selection import train_test_split\n",
        "# Split them into training and validation of total size NUM_IMAGES\n",
        "x_train, x_val, y_train, y_val = train_test_split(X[:ImageNumber], y[:ImageNumber], test_size=0.2, random_state=42)\n",
        "\n",
        "len(x_train), len(y_train), len(x_val), len(y_val)"
      ]
    },
    {
      "cell_type": "code",
      "execution_count": null,
      "metadata": {
        "colab": {
          "background_save": true
        },
        "id": "z0E6WNTBKxHF",
        "outputId": "e0350e07-7a71-4b53-cf22-cee7411da430"
      },
      "outputs": [
        {
          "data": {
            "text/plain": [
              "(['drive/MyDrive/data-project3/train/00bee065dcec471f26394855c5c2f3de.jpg',\n",
              "  'drive/MyDrive/data-project3/train/0d2f9e12a2611d911d91a339074c8154.jpg',\n",
              "  'drive/MyDrive/data-project3/train/1108e48ce3e2d7d7fb527ae6e40ab486.jpg',\n",
              "  'drive/MyDrive/data-project3/train/0dc3196b4213a2733d7f4bdcd41699d3.jpg',\n",
              "  'drive/MyDrive/data-project3/train/146fbfac6b5b1f0de83a5d0c1b473377.jpg'],\n",
              " [array([False, False, False, False, False, False, False, False, False,\n",
              "         False, False, False, False, False, False, False, False, False,\n",
              "         False, False, False, False, False, False, False, False,  True,\n",
              "         False, False, False, False, False, False, False, False, False,\n",
              "         False, False, False, False, False, False, False, False, False,\n",
              "         False, False, False, False, False, False, False, False, False,\n",
              "         False, False, False, False, False, False, False, False, False,\n",
              "         False, False, False, False, False, False, False, False, False,\n",
              "         False, False, False, False, False, False, False, False, False,\n",
              "         False, False, False, False, False, False, False, False, False,\n",
              "         False, False, False, False, False, False, False, False, False,\n",
              "         False, False, False, False, False, False, False, False, False,\n",
              "         False, False, False, False, False, False, False, False, False,\n",
              "         False, False, False]),\n",
              "  array([False, False, False, False, False, False, False, False, False,\n",
              "         False, False, False, False, False, False, False, False, False,\n",
              "         False, False,  True, False, False, False, False, False, False,\n",
              "         False, False, False, False, False, False, False, False, False,\n",
              "         False, False, False, False, False, False, False, False, False,\n",
              "         False, False, False, False, False, False, False, False, False,\n",
              "         False, False, False, False, False, False, False, False, False,\n",
              "         False, False, False, False, False, False, False, False, False,\n",
              "         False, False, False, False, False, False, False, False, False,\n",
              "         False, False, False, False, False, False, False, False, False,\n",
              "         False, False, False, False, False, False, False, False, False,\n",
              "         False, False, False, False, False, False, False, False, False,\n",
              "         False, False, False, False, False, False, False, False, False,\n",
              "         False, False, False])])"
            ]
          },
          "execution_count": 40,
          "metadata": {},
          "output_type": "execute_result"
        }
      ],
      "source": [
        "# Let's have a geez at the training data\n",
        "x_train[:5], y_train[:2]"
      ]
    },
    {
      "cell_type": "markdown",
      "metadata": {
        "id": "tGD6cZ5EFKYj"
      },
      "source": [
        "## Preprocessing Images (turning images into Tensors)\n",
        "\n",
        "To preprocess our images into Tensors we're going to write a function which does a few things:\n",
        "1. Take an image filepath as input\n",
        "2. Use TensorFlow to read the file and save it to a variable, `image`\n",
        "3. Turn our `image` (a jpg) into Tensors\n",
        "4. Normalize our image (convert color channel values from from 0-255 to 0-1).\n",
        "5. Resize the `image` to be a shape of (224, 224)\n",
        "6. Return the modified `image`\n",
        "\n",
        "Before we do, let's see what importing an image looks like."
      ]
    },
    {
      "cell_type": "code",
      "execution_count": null,
      "metadata": {
        "colab": {
          "background_save": true
        },
        "id": "jEa64bO2CoYz",
        "outputId": "058651ef-93c3-434f-df42-e3a7da9b1355"
      },
      "outputs": [
        {
          "data": {
            "text/plain": [
              "(280, 200, 3)"
            ]
          },
          "execution_count": 41,
          "metadata": {},
          "output_type": "execute_result"
        }
      ],
      "source": [
        "# Convert image to NumPy array\n",
        "from matplotlib.pyplot import imread\n",
        "image = imread(filenames[24])\n",
        "image.shape"
      ]
    },
    {
      "cell_type": "code",
      "execution_count": null,
      "metadata": {
        "colab": {
          "background_save": true
        },
        "id": "HNmONnhbCtI8",
        "outputId": "e0927b9d-ae8a-4474-9dfe-f3c435d54fe6"
      },
      "outputs": [
        {
          "data": {
            "text/html": [
              "<style>\n",
              "      .ndarray_repr .ndarray_raw_data {\n",
              "        display: none;\n",
              "      }\n",
              "      .ndarray_repr.show_array .ndarray_raw_data {\n",
              "        display: block;\n",
              "      }\n",
              "      .ndarray_repr.show_array .ndarray_image_preview {\n",
              "        display: none;\n",
              "      }\n",
              "      </style>\n",
              "      <div id=\"id-04f0a8c4-d016-475d-9823-4adcd7889d8e\" class=\"ndarray_repr\"><pre>ndarray (280, 200, 3) <button style=\"padding: 0 2px;\">show data</button></pre><img src=\"data:image/png;base64,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\" class=\"ndarray_image_preview\" /><pre class=\"ndarray_raw_data\">array([[[  0,   4,   0],\n",
              "        [  0,   9,   3],\n",
              "        [  2,  11,   6],\n",
              "        ...,\n",
              "        [  0,  13,   4],\n",
              "        [ 12,  25,  16],\n",
              "        [  0,   5,   0]],\n",
              "\n",
              "       [[  0,   9,   3],\n",
              "        [  7,  18,  12],\n",
              "        [ 14,  23,  18],\n",
              "        ...,\n",
              "        [ 23,  36,  27],\n",
              "        [ 34,  47,  38],\n",
              "        [ 10,  23,  14]],\n",
              "\n",
              "       [[  0,  10,   4],\n",
              "        [  9,  20,  14],\n",
              "        [ 17,  26,  21],\n",
              "        ...,\n",
              "        [ 17,  33,  23],\n",
              "        [ 27,  43,  33],\n",
              "        [  1,  17,   7]],\n",
              "\n",
              "       ...,\n",
              "\n",
              "       [[  0,   1,   0],\n",
              "        [  5,   7,   2],\n",
              "        [  9,  11,   6],\n",
              "        ...,\n",
              "        [ 71,  84,  77],\n",
              "        [ 89, 104,  99],\n",
              "        [ 30,  45,  38]],\n",
              "\n",
              "       [[  6,   8,   3],\n",
              "        [ 11,  13,   8],\n",
              "        [ 13,  15,  10],\n",
              "        ...,\n",
              "        [121, 130, 127],\n",
              "        [107, 117, 116],\n",
              "        [ 15,  27,  23]],\n",
              "\n",
              "       [[  1,   3,   0],\n",
              "        [  6,   8,   3],\n",
              "        [  6,   8,   3],\n",
              "        ...,\n",
              "        [ 19,  28,  27],\n",
              "        [ 41,  50,  49],\n",
              "        [  0,   5,   4]]], dtype=uint8)</pre></div><script>\n",
              "      (() => {\n",
              "      const titles = ['show data', 'hide data'];\n",
              "      let index = 0\n",
              "      document.querySelector('#id-04f0a8c4-d016-475d-9823-4adcd7889d8e button').onclick = (e) => {\n",
              "        document.querySelector('#id-04f0a8c4-d016-475d-9823-4adcd7889d8e').classList.toggle('show_array');\n",
              "        index = (++index) % 2;\n",
              "        document.querySelector('#id-04f0a8c4-d016-475d-9823-4adcd7889d8e button').textContent = titles[index];\n",
              "        e.preventDefault();\n",
              "        e.stopPropagation();\n",
              "      }\n",
              "      })();\n",
              "    </script>"
            ],
            "text/plain": [
              "array([[[  0,   4,   0],\n",
              "        [  0,   9,   3],\n",
              "        [  2,  11,   6],\n",
              "        ...,\n",
              "        [  0,  13,   4],\n",
              "        [ 12,  25,  16],\n",
              "        [  0,   5,   0]],\n",
              "\n",
              "       [[  0,   9,   3],\n",
              "        [  7,  18,  12],\n",
              "        [ 14,  23,  18],\n",
              "        ...,\n",
              "        [ 23,  36,  27],\n",
              "        [ 34,  47,  38],\n",
              "        [ 10,  23,  14]],\n",
              "\n",
              "       [[  0,  10,   4],\n",
              "        [  9,  20,  14],\n",
              "        [ 17,  26,  21],\n",
              "        ...,\n",
              "        [ 17,  33,  23],\n",
              "        [ 27,  43,  33],\n",
              "        [  1,  17,   7]],\n",
              "\n",
              "       ...,\n",
              "\n",
              "       [[  0,   1,   0],\n",
              "        [  5,   7,   2],\n",
              "        [  9,  11,   6],\n",
              "        ...,\n",
              "        [ 71,  84,  77],\n",
              "        [ 89, 104,  99],\n",
              "        [ 30,  45,  38]],\n",
              "\n",
              "       [[  6,   8,   3],\n",
              "        [ 11,  13,   8],\n",
              "        [ 13,  15,  10],\n",
              "        ...,\n",
              "        [121, 130, 127],\n",
              "        [107, 117, 116],\n",
              "        [ 15,  27,  23]],\n",
              "\n",
              "       [[  1,   3,   0],\n",
              "        [  6,   8,   3],\n",
              "        [  6,   8,   3],\n",
              "        ...,\n",
              "        [ 19,  28,  27],\n",
              "        [ 41,  50,  49],\n",
              "        [  0,   5,   4]]], dtype=uint8)"
            ]
          },
          "execution_count": 42,
          "metadata": {},
          "output_type": "execute_result"
        }
      ],
      "source": [
        "image"
      ]
    },
    {
      "cell_type": "code",
      "execution_count": null,
      "metadata": {
        "colab": {
          "background_save": true
        },
        "id": "l4u40NHYHKuO",
        "outputId": "30552e58-52ab-4e6e-b305-f9d2d52c0819"
      },
      "outputs": [
        {
          "data": {
            "text/plain": [
              "array([[[ 0,  4,  0],\n",
              "        [ 0,  9,  3],\n",
              "        [ 2, 11,  6],\n",
              "        ...,\n",
              "        [ 0, 13,  4],\n",
              "        [12, 25, 16],\n",
              "        [ 0,  5,  0]],\n",
              "\n",
              "       [[ 0,  9,  3],\n",
              "        [ 7, 18, 12],\n",
              "        [14, 23, 18],\n",
              "        ...,\n",
              "        [23, 36, 27],\n",
              "        [34, 47, 38],\n",
              "        [10, 23, 14]]], dtype=uint8)"
            ]
          },
          "execution_count": 43,
          "metadata": {},
          "output_type": "execute_result"
        }
      ],
      "source": [
        "image[:2]"
      ]
    },
    {
      "cell_type": "code",
      "execution_count": null,
      "metadata": {
        "colab": {
          "background_save": true
        },
        "id": "p8MeFAKFHKq2",
        "outputId": "e73e6bb2-f359-4fb4-c599-7f79c3481e04"
      },
      "outputs": [
        {
          "data": {
            "text/plain": [
              "(np.uint8(255), np.uint8(0))"
            ]
          },
          "execution_count": 44,
          "metadata": {},
          "output_type": "execute_result"
        }
      ],
      "source": [
        "image.max(), image.min()"
      ]
    },
    {
      "cell_type": "code",
      "execution_count": null,
      "metadata": {
        "colab": {
          "background_save": true
        },
        "id": "MEBeVlWlHKoI",
        "outputId": "8c3937c5-5513-40da-b5f6-ce1ec2017023"
      },
      "outputs": [
        {
          "data": {
            "text/plain": [
              "<tf.Tensor: shape=(2, 200, 3), dtype=uint8, numpy=\n",
              "array([[[ 0,  4,  0],\n",
              "        [ 0,  9,  3],\n",
              "        [ 2, 11,  6],\n",
              "        ...,\n",
              "        [ 0, 13,  4],\n",
              "        [12, 25, 16],\n",
              "        [ 0,  5,  0]],\n",
              "\n",
              "       [[ 0,  9,  3],\n",
              "        [ 7, 18, 12],\n",
              "        [14, 23, 18],\n",
              "        ...,\n",
              "        [23, 36, 27],\n",
              "        [34, 47, 38],\n",
              "        [10, 23, 14]]], dtype=uint8)>"
            ]
          },
          "execution_count": 45,
          "metadata": {},
          "output_type": "execute_result"
        }
      ],
      "source": [
        "# turn image into a tensor\n",
        "tf.constant(image)[:2]"
      ]
    },
    {
      "cell_type": "markdown",
      "metadata": {
        "id": "YU4bFttRM6kS"
      },
      "source": [
        "Now we've seen what an image looks like as a Tensor, let's make a function to preprocess them.\n",
        "\n",
        "We'll create a function to:\n",
        "\n",
        "1. Take an image filepath as input\n",
        "2. Use TensorFlow to read the file and save it to a variable, `image`\n",
        "3. Turn our `image` (a jpg) into Tensors\n",
        "4. Normalize our image (convert color channel values from from 0-255 to 0-1).\n",
        "5. Resize the `image` to be a shape of (224, 224)\n",
        "6. Return the modified `image`\n",
        "\n",
        "More information on loading images in TensorFlow can be seen here: https://www.tensorflow.org/tutorials/load_data/images"
      ]
    },
    {
      "cell_type": "code",
      "execution_count": null,
      "metadata": {
        "colab": {
          "background_save": true
        },
        "id": "C5S_U5MzHKlH"
      },
      "outputs": [],
      "source": [
        "# Define image size\n",
        "IMG_SIZE = 224\n",
        "\n",
        "# Create a function for preprocessing images\n",
        "def process_image(image_path, img_size=IMG_SIZE):\n",
        "  \"\"\"\n",
        "  Takes an image file path and turns the image into a Tensor.\n",
        "  \"\"\"\n",
        "  # Read in an image file\n",
        "  image = tf.io.read_file(image_path)\n",
        "  # Turn the jpeg image into numerical Tensor with 3 colour channels (Red, Green, Blue)\n",
        "  image = tf.image.decode_jpeg(image, channels=3)\n",
        "  # Convert the colour channel values from 0-255 to 0-1 values\n",
        "  image = tf.image.convert_image_dtype(image, tf.float32)\n",
        "  # Resize the image to our desired value (224, 224)\n",
        "  image = tf.image.resize(image, size=[IMG_SIZE, IMG_SIZE])\n",
        "\n",
        "  return image"
      ]
    },
    {
      "cell_type": "markdown",
      "metadata": {
        "id": "vGcUigdkR-W1"
      },
      "source": [
        "## Turning our data into batches\n",
        "\n",
        "Why turn our data into batches?\n",
        "\n",
        "Let's say you're trying to process 10,000+ images in one go... they all might not fit into memory.\n",
        "\n",
        "So that's why we do about 32 (this is the batch size) images at a time (you can manually adjust the batch size if need be).\n",
        "\n",
        "In order to use TensorFlow effectively, we need our data in the form of Tensor tuples which look like this:\n",
        "`(image, label)`."
      ]
    },
    {
      "cell_type": "code",
      "execution_count": null,
      "metadata": {
        "colab": {
          "background_save": true
        },
        "id": "Mg5PXWhaR8Qh"
      },
      "outputs": [],
      "source": [
        "# Create a simple function to return a tuple (image, label)\n",
        "def get_image_label(image_path, label):\n",
        "  \"\"\"\n",
        "  Takes an image file path name and the assosciated label,\n",
        "  processes the image and reutrns a typle of (image, label).\n",
        "  \"\"\"\n",
        "  image = process_image(image_path)\n",
        "  return image, label"
      ]
    },
    {
      "cell_type": "code",
      "execution_count": null,
      "metadata": {
        "colab": {
          "background_save": true
        },
        "id": "9ck3AOGfR8N5",
        "outputId": "fb1d2dbe-5497-4ab1-8996-6c36ca347246"
      },
      "outputs": [
        {
          "data": {
            "text/plain": [
              "(<tf.Tensor: shape=(224, 224, 3), dtype=float32, numpy=\n",
              " array([[[0.3264178 , 0.5222886 , 0.3232816 ],\n",
              "         [0.2537167 , 0.44366494, 0.24117759],\n",
              "         [0.25699762, 0.4467087 , 0.23893751],\n",
              "         ...,\n",
              "         [0.29325107, 0.5189916 , 0.3215547 ],\n",
              "         [0.29721776, 0.52466875, 0.33030328],\n",
              "         [0.2948505 , 0.5223015 , 0.33406618]],\n",
              " \n",
              "        [[0.25903144, 0.4537807 , 0.27294815],\n",
              "         [0.24375686, 0.4407019 , 0.2554778 ],\n",
              "         [0.2838985 , 0.47213382, 0.28298813],\n",
              "         ...,\n",
              "         [0.2785345 , 0.5027992 , 0.31004712],\n",
              "         [0.28428748, 0.5108719 , 0.32523635],\n",
              "         [0.28821915, 0.5148036 , 0.32916805]],\n",
              " \n",
              "        [[0.20941195, 0.40692952, 0.25792548],\n",
              "         [0.24045378, 0.43900946, 0.2868911 ],\n",
              "         [0.29001117, 0.47937486, 0.32247734],\n",
              "         ...,\n",
              "         [0.26074055, 0.48414773, 0.30125174],\n",
              "         [0.27101526, 0.49454468, 0.32096273],\n",
              "         [0.27939945, 0.5029289 , 0.32934693]],\n",
              " \n",
              "        ...,\n",
              " \n",
              "        [[0.00634795, 0.03442048, 0.0258106 ],\n",
              "         [0.01408936, 0.04459917, 0.0301715 ],\n",
              "         [0.01385712, 0.04856448, 0.02839671],\n",
              "         ...,\n",
              "         [0.4220516 , 0.39761978, 0.21622123],\n",
              "         [0.47932503, 0.45370543, 0.2696505 ],\n",
              "         [0.48181024, 0.45828083, 0.27004552]],\n",
              " \n",
              "        [[0.00222061, 0.02262166, 0.03176915],\n",
              "         [0.01008397, 0.03669046, 0.02473482],\n",
              "         [0.00608852, 0.03890046, 0.01207283],\n",
              "         ...,\n",
              "         [0.36070833, 0.33803678, 0.16216144],\n",
              "         [0.42499566, 0.3976801 , 0.21701711],\n",
              "         [0.4405433 , 0.4139589 , 0.23183356]],\n",
              " \n",
              "        [[0.05608118, 0.06760313, 0.10401551],\n",
              "         [0.05441153, 0.07435327, 0.05428322],\n",
              "         [0.04734357, 0.07581862, 0.02060969],\n",
              "         ...,\n",
              "         [0.3397557 , 0.3126567 , 0.14725593],\n",
              "         [0.3877246 , 0.3602736 , 0.187147  ],\n",
              "         [0.43942   , 0.41196904, 0.23884243]]], dtype=float32)>,\n",
              " <tf.Tensor: shape=(120,), dtype=bool, numpy=\n",
              " array([False, False, False, False, False, False, False, False, False,\n",
              "        False, False, False, False, False, False, False, False, False,\n",
              "        False, False, False, False, False, False, False, False, False,\n",
              "        False, False, False, False, False, False, False, False, False,\n",
              "         True, False, False, False, False, False, False, False, False,\n",
              "        False, False, False, False, False, False, False, False, False,\n",
              "        False, False, False, False, False, False, False, False, False,\n",
              "        False, False, False, False, False, False, False, False, False,\n",
              "        False, False, False, False, False, False, False, False, False,\n",
              "        False, False, False, False, False, False, False, False, False,\n",
              "        False, False, False, False, False, False, False, False, False,\n",
              "        False, False, False, False, False, False, False, False, False,\n",
              "        False, False, False, False, False, False, False, False, False,\n",
              "        False, False, False])>)"
            ]
          },
          "execution_count": 48,
          "metadata": {},
          "output_type": "execute_result"
        }
      ],
      "source": [
        "# Demo of the above\n",
        "(process_image(X[42]), tf.constant(y[42]))"
      ]
    },
    {
      "cell_type": "markdown",
      "metadata": {
        "id": "bmqdKrnGSdYv"
      },
      "source": [
        "Now we've got a way to turn our data into tuples of Tensors in the form: `(image, label)`, let's make a function to turn all of our data (`X` & `y`) into batches!"
      ]
    },
    {
      "cell_type": "code",
      "execution_count": null,
      "metadata": {
        "colab": {
          "background_save": true
        },
        "id": "LMpQdO1uh29k",
        "outputId": "f12f93fd-d13a-479e-e077-23aabb164037"
      },
      "outputs": [
        {
          "name": "stdout",
          "output_type": "stream",
          "text": [
            "tf.Tensor(\n",
            "[b'drive/MyDrive/data-project3/train/000bec180eb18c7604dcecc8fe0dba07.jpg'\n",
            " b'drive/MyDrive/data-project3/train/001513dfcb2ffafc82cccf4d8bbaba97.jpg'], shape=(2,), dtype=string)\n",
            "tf.Tensor(\n",
            "[[False False False False False False False False False False False False\n",
            "  False False False False False False False  True False False False False\n",
            "  False False False False False False False False False False False False\n",
            "  False False False False False False False False False False False False\n",
            "  False False False False False False False False False False False False\n",
            "  False False False False False False False False False False False False\n",
            "  False False False False False False False False False False False False\n",
            "  False False False False False False False False False False False False\n",
            "  False False False False False False False False False False False False\n",
            "  False False False False False False False False False False False False]\n",
            " [False False False False False False False False False False False False\n",
            "  False False False False False False False False False False False False\n",
            "  False False False False False False False False False False False False\n",
            "  False  True False False False False False False False False False False\n",
            "  False False False False False False False False False False False False\n",
            "  False False False False False False False False False False False False\n",
            "  False False False False False False False False False False False False\n",
            "  False False False False False False False False False False False False\n",
            "  False False False False False False False False False False False False\n",
            "  False False False False False False False False False False False False]], shape=(2, 120), dtype=bool)\n",
            "tf.Tensor(\n",
            "[b'drive/MyDrive/data-project3/train/00bee065dcec471f26394855c5c2f3de.jpg'\n",
            " b'drive/MyDrive/data-project3/train/0d2f9e12a2611d911d91a339074c8154.jpg'], shape=(2,), dtype=string)\n",
            "tf.Tensor(\n",
            "[[False False False False False False False False False False False False\n",
            "  False False False False False False False False False False False False\n",
            "  False False  True False False False False False False False False False\n",
            "  False False False False False False False False False False False False\n",
            "  False False False False False False False False False False False False\n",
            "  False False False False False False False False False False False False\n",
            "  False False False False False False False False False False False False\n",
            "  False False False False False False False False False False False False\n",
            "  False False False False False False False False False False False False\n",
            "  False False False False False False False False False False False False]\n",
            " [False False False False False False False False False False False False\n",
            "  False False False False False False False False  True False False False\n",
            "  False False False False False False False False False False False False\n",
            "  False False False False False False False False False False False False\n",
            "  False False False False False False False False False False False False\n",
            "  False False False False False False False False False False False False\n",
            "  False False False False False False False False False False False False\n",
            "  False False False False False False False False False False False False\n",
            "  False False False False False False False False False False False False\n",
            "  False False False False False False False False False False False False]], shape=(2, 120), dtype=bool)\n"
          ]
        }
      ],
      "source": [
        "print(tf.constant(X[:2]), tf.constant(y[:2]), sep='\\n', end='\\n')\n",
        "print(tf.constant(x_train[:2]), tf.constant(y_train[:2]), sep='\\n', end='\\n')"
      ]
    },
    {
      "cell_type": "code",
      "execution_count": null,
      "metadata": {
        "colab": {
          "background_save": true
        },
        "id": "Z9nGp1q6R8LS"
      },
      "outputs": [],
      "source": [
        "# Define the batch size, 32 is a good start\n",
        "BATCH_SIZE = 32\n",
        "\n",
        "# Create a function to turn data into batches\n",
        "def create_data_bathes(X, y=None, batch_size=BATCH_SIZE, validation_data=False, test_data=False):\n",
        "  \"\"\"\n",
        "  Creates batches of data out of image (X) and label (y) pairs.\n",
        "  Shuffles the data if it's training data but doesn't shuffle if it's validation data.\n",
        "  Also accepts test data as input (no labels).\n",
        "  \"\"\"\n",
        "  # If the data is a test dataset, we probably don't have have labels\n",
        "  if test_data:\n",
        "    print('creating test data batches')\n",
        "    data = tf.data.Dataset.from_tensor_slices(tf.constant(X)) # only filepaths (no labels)\n",
        "    data_batch = data.map(process_image).batch(batch_size)\n",
        "    return data_batch\n",
        "\n",
        "  # If the data is a valid dataset, we don't need to shuffle it\n",
        "  elif validation_data:\n",
        "    print('creating validation data batches')\n",
        "    data = tf.data.Dataset.from_tensor_slices((tf.constant(X), # filepaths\n",
        "                                              tf.constant(y))) # labels\n",
        "    data_batch = data.map(get_image_label).batch(batch_size)\n",
        "    return data_batch\n",
        "\n",
        "\n",
        "\n",
        "  else:\n",
        "    print('creating training data batches')\n",
        "    # Turn filepaths and labels into Tensors\n",
        "    data = tf.data.Dataset.from_tensor_slices((tf.constant(X),\n",
        "                                              tf.constant(y)))\n",
        "    # Shuffling pathnames and labels before mapping image processor function is faster than shuffling images\n",
        "    data_shuffled = data.shuffle(len(X))\n",
        "    # Create (image, label) tuples (this also turns the iamge path into a preprocessed image)\n",
        "    data_map = data_shuffled.map(get_image_label)\n",
        "    # Turn the training data into batches\n",
        "    data_batch = data_map.batch(batch_size)\n",
        "    return data_batch\n"
      ]
    },
    {
      "cell_type": "code",
      "execution_count": null,
      "metadata": {
        "colab": {
          "background_save": true
        },
        "id": "dNp0nOedSecv",
        "outputId": "7bd61c47-336a-4b0a-df79-39c8a1532cd3"
      },
      "outputs": [
        {
          "name": "stdout",
          "output_type": "stream",
          "text": [
            "creating training data batches\n",
            "creating validation data batches\n"
          ]
        }
      ],
      "source": [
        "# Create training and validation data batches\n",
        "train_data = create_data_bathes(x_train, y_train)\n",
        "val_data = create_data_bathes(x_val, y_val, validation_data=True)"
      ]
    },
    {
      "cell_type": "code",
      "execution_count": null,
      "metadata": {
        "id": "9sUMNyZGSeaX"
      },
      "outputs": [],
      "source": [
        "# Check out the different attributes of our data batches\n",
        "train_data.element_spec, val_data.element_spec"
      ]
    },
    {
      "cell_type": "markdown",
      "metadata": {
        "id": "4xZU1H1OnbuN"
      },
      "source": [
        "## Visualizing Data Batches\n",
        "\n",
        "Our data is now in batches, however, these can be a little hard to understand/comprehend, let's visualize them!"
      ]
    },
    {
      "cell_type": "code",
      "execution_count": null,
      "metadata": {
        "id": "xdci7ue_vph-"
      },
      "outputs": [],
      "source": [
        "import matplotlib.pyplot as plt\n",
        "\n",
        "# Create a function for viewing images in a data batch\n",
        "def show_25_images(images, labels):\n",
        "  \"\"\"\n",
        "  Displays a plot of 25 images and their labels from a data batch.\n",
        "  \"\"\"\n",
        "  # Setup the figure\n",
        "  plt.figure(figsize=(10, 10))\n",
        "  # Loop through 25 (for displaying 25 images)\n",
        "  for i in range(25):\n",
        "    # Create subplots (5 rows, 5 columns)\n",
        "    plt.subplot(5, 5, i+1)\n",
        "    # Display an image\n",
        "    plt.imshow(images[i])\n",
        "    # Add the image label as the title\n",
        "    plt.title(unique_breeds[labels[i].argmax()])\n",
        "    # Turn the grid lines off\n",
        "    plt.axis('off')"
      ]
    },
    {
      "cell_type": "code",
      "execution_count": null,
      "metadata": {
        "id": "9HTk3qV51Jgo"
      },
      "outputs": [],
      "source": [
        "train_data"
      ]
    },
    {
      "cell_type": "code",
      "execution_count": null,
      "metadata": {
        "id": "JkLnpzPL1VKx"
      },
      "outputs": [],
      "source": [
        "# because our data is batch, we have to unbatch it to plot and then we are gonna make our data iterating by next\n",
        "# Now let's visualize the data in a training batch\n",
        "train_images, train_labels = next(train_data.as_numpy_iterator())\n",
        "show_25_images(train_images, train_labels)"
      ]
    },
    {
      "cell_type": "markdown",
      "metadata": {
        "id": "Rts9nTiw1r9C"
      },
      "source": [
        "## Building a model\n",
        "\n",
        "Before we build a model, there are a few things we need to define:\n",
        "* The input shape (our images shape, in the form of Tensors) to our model.\n",
        "* The output shape (image labels, in the form of Tensors) of our model.\n",
        "* The URL of the model we want to use from TensorFlow Hub - https://tfhub.dev/google/imagenet/mobilenet_v2_130_224/classification/4"
      ]
    },
    {
      "cell_type": "code",
      "execution_count": null,
      "metadata": {
        "id": "Bn2rqMxevpef"
      },
      "outputs": [],
      "source": [
        "IMG_SIZE"
      ]
    },
    {
      "cell_type": "code",
      "execution_count": null,
      "metadata": {
        "id": "Qva3bNDy06ci"
      },
      "outputs": [],
      "source": [
        "# Setup input shape to the model\n",
        "INPUT_SHAPE = [None, IMG_SIZE, IMG_SIZE, 3] # batch, height, width, colour channels\n",
        "\n",
        "# Setup output shape of our model\n",
        "OUTPUT_SHAPE = len(unique_breeds)\n",
        "# Setup model URL from TensorFlow Hub\n",
        "MODEL_URL = \"https://tfhub.dev/google/imagenet/mobilenet_v2_130_224/classification/4\""
      ]
    },
    {
      "cell_type": "code",
      "execution_count": null,
      "metadata": {
        "id": "7t7pNQZ6k6wg"
      },
      "outputs": [],
      "source": [
        "INPUT_SHAPE"
      ]
    },
    {
      "cell_type": "code",
      "execution_count": null,
      "metadata": {
        "id": "YC2AUBgiSeX_"
      },
      "outputs": [],
      "source": [
        "# because our data is batch, we have to unbatch it to plot and then we are gonna make our data iterating by next\n"
      ]
    },
    {
      "cell_type": "code",
      "execution_count": null,
      "metadata": {
        "id": "XaDxHAScSeVW"
      },
      "outputs": [],
      "source": [
        "#cdcs"
      ]
    },
    {
      "cell_type": "code",
      "execution_count": null,
      "metadata": {
        "id": "bV6XxqvtSeS2"
      },
      "outputs": [],
      "source": []
    },
    {
      "cell_type": "code",
      "execution_count": null,
      "metadata": {
        "id": "aLYAFnWS5Q69"
      },
      "outputs": [],
      "source": []
    },
    {
      "cell_type": "code",
      "execution_count": null,
      "metadata": {
        "id": "f42CoCs75RRP"
      },
      "outputs": [],
      "source": [
        "# Explore Tensorflow hub"
      ]
    },
    {
      "cell_type": "code",
      "execution_count": null,
      "metadata": {
        "id": "OvI7nzcbSQN9"
      },
      "outputs": [],
      "source": [
        "# 240"
      ]
    },
    {
      "cell_type": "code",
      "execution_count": null,
      "metadata": {
        "id": "qPI0rD4nxW0t"
      },
      "outputs": [],
      "source": [
        "# Use another model url for our model to improve it"
      ]
    }
  ],
  "metadata": {
    "accelerator": "TPU",
    "colab": {
      "gpuType": "V28",
      "toc_visible": true,
      "provenance": [],
      "mount_file_id": "1QeaKa8flVu2VvNZWU785_Kb76IhjOKQ3",
      "authorship_tag": "ABX9TyMy+9cl1yqGBRWY3VuEA9Ki"
    },
    "kernelspec": {
      "display_name": "Python 3",
      "name": "python3"
    },
    "language_info": {
      "name": "python"
    }
  },
  "nbformat": 4,
  "nbformat_minor": 0
}